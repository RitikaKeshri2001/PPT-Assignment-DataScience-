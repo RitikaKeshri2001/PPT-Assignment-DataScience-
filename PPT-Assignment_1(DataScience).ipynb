{
 "cells": [
  {
   "attachments": {},
   "cell_type": "markdown",
   "metadata": {},
   "source": [
    "1. Write a Python program to reverse a string without using any built-in string reversal functions."
   ]
  },
  {
   "cell_type": "code",
   "execution_count": 1,
   "metadata": {},
   "outputs": [
    {
     "name": "stdout",
     "output_type": "stream",
     "text": [
      "edcba\n"
     ]
    }
   ],
   "source": [
    "def reverse_string(s):\n",
    "    # a empty string to store reverse of string\n",
    "    reversed = \"\"\n",
    "    # iterate over the string from last idx to first idx\n",
    "    for i in range(len(s)-1, -1, -1):\n",
    "        # add the characters\n",
    "        reversed += s[i]\n",
    "    return reversed\n",
    "\n",
    "s = \"abcde\"\n",
    "print(reverse_string(s)) "
   ]
  },
  {
   "attachments": {},
   "cell_type": "markdown",
   "metadata": {},
   "source": [
    "2. Implement a function to check if a given string is a palindrome."
   ]
  },
  {
   "cell_type": "code",
   "execution_count": 2,
   "metadata": {},
   "outputs": [
    {
     "name": "stdout",
     "output_type": "stream",
     "text": [
      "True\n"
     ]
    }
   ],
   "source": [
    "def isPalindrome(s):\n",
    "    # initialize the i with first idx and j with last idx\n",
    "    j = len(s)-1\n",
    "    i = 0\n",
    "    # traverse the string while i is smaller than j\n",
    "    while i<j:\n",
    "        # if first and last character not match it is not a palindrome string\n",
    "        if(s[i] != s[j]):\n",
    "            return False\n",
    "        # update i and j\n",
    "        i += 1\n",
    "        j -= 1\n",
    "    # if loop exceute completely then the string is palindrome\n",
    "    return True\n",
    "\n",
    "s = \"abcba\"\n",
    "print(isPalindrome(s))"
   ]
  },
  {
   "attachments": {},
   "cell_type": "markdown",
   "metadata": {},
   "source": [
    "3. Write a program to find the largest element in a given list."
   ]
  },
  {
   "cell_type": "code",
   "execution_count": 3,
   "metadata": {},
   "outputs": [
    {
     "name": "stdout",
     "output_type": "stream",
     "text": [
      "Largest element:  9\n"
     ]
    }
   ],
   "source": [
    "def largest(l):\n",
    "    # let's assume the first element in list is largest\n",
    "    max = l[0]\n",
    "    # traverse the list to check whether max is largest element or not\n",
    "    for element in l[1:]:\n",
    "        if element > max: # if not update max\n",
    "            max = element\n",
    "    return max\n",
    "\n",
    "l = [3, 5, 7, 9, 2, 4, 6, 8]\n",
    "print(\"Largest element: \",largest(l))"
   ]
  },
  {
   "attachments": {},
   "cell_type": "markdown",
   "metadata": {},
   "source": [
    "4. Implement a function to count the occurrence of each element in a list."
   ]
  },
  {
   "cell_type": "code",
   "execution_count": 4,
   "metadata": {},
   "outputs": [
    {
     "name": "stdout",
     "output_type": "stream",
     "text": [
      "The occurrence of each element: {3: 2, 5: 2, 7: 2, 9: 2, 2: 1, 4: 1, 6: 1, 8: 1}\n"
     ]
    }
   ],
   "source": [
    "def count_ele(lst):\n",
    "    # Initialize an empty dictionary to store the element and its count\n",
    "    ele_count = {}\n",
    "    for element in lst:\n",
    "        # Check if the element is already in the dictionary or not\n",
    "        if element in ele_count:\n",
    "            ele_count[element] += 1 # if already present increase the count\n",
    "        else:\n",
    "            ele_count[element] = 1 # if not reinitialize the count to 1\n",
    "    return ele_count\n",
    "\n",
    "\n",
    "lst = [3, 5, 7, 9, 2, 4, 6, 8, 3, 5, 7, 9]\n",
    "print(\"The occurrence of each element:\",count_ele(lst))"
   ]
  },
  {
   "attachments": {},
   "cell_type": "markdown",
   "metadata": {},
   "source": [
    "5. Write a Python program to find the second largest number in a list."
   ]
  },
  {
   "cell_type": "code",
   "execution_count": 5,
   "metadata": {},
   "outputs": [
    {
     "name": "stdout",
     "output_type": "stream",
     "text": [
      "Second largest number: 45\n"
     ]
    }
   ],
   "source": [
    "def second_largest(lst):\n",
    "    if len(lst) < 2:\n",
    "        return None\n",
    "    \n",
    "    # initialize largest and second largest with first two element of list\n",
    "    largest = max(lst[0], lst[1])\n",
    "    second_lar = min(lst[0], lst[1])\n",
    "    for i in range(2, len(lst)):\n",
    "        if lst[i] > largest:\n",
    "            second_lar = largest\n",
    "            largest = lst[i]\n",
    "        elif lst[i] > second_lar and lst[i] != largest:\n",
    "            second_lar = lst[i]\n",
    "    return second_lar\n",
    "\n",
    "lst = [12, 45, 27, 8, 51, 33]\n",
    "print(\"Second largest number:\", second_largest(lst))"
   ]
  },
  {
   "attachments": {},
   "cell_type": "markdown",
   "metadata": {},
   "source": [
    "6. Implement a function to remove duplicate elements from a list."
   ]
  },
  {
   "cell_type": "code",
   "execution_count": 6,
   "metadata": {},
   "outputs": [
    {
     "name": "stdout",
     "output_type": "stream",
     "text": [
      "[1, 2, 3, 4, 5, 6]\n"
     ]
    }
   ],
   "source": [
    "def removeDuplicate(lst):\n",
    "    # we can use set which contain only unique value\n",
    "    return list(set(lst))\n",
    "\n",
    "lst = [2, 3, 2, 5, 6, 1, 3, 2, 6, 2, 4, 3] \n",
    "print(removeDuplicate(lst))"
   ]
  },
  {
   "attachments": {},
   "cell_type": "markdown",
   "metadata": {},
   "source": [
    "7. Write a program to calculate the factorial of a given number."
   ]
  },
  {
   "cell_type": "code",
   "execution_count": 7,
   "metadata": {},
   "outputs": [
    {
     "name": "stdout",
     "output_type": "stream",
     "text": [
      "120\n"
     ]
    }
   ],
   "source": [
    "def factorial(n):\n",
    "    # base case\n",
    "    if(n == 0 or n == 1):\n",
    "        return 1\n",
    "    # recursive call to calculate the factorial of a number\n",
    "    return n*factorial(n-1)\n",
    "\n",
    "print(factorial(5))"
   ]
  },
  {
   "attachments": {},
   "cell_type": "markdown",
   "metadata": {},
   "source": [
    "8. Implement a function to check if a given number is prime."
   ]
  },
  {
   "cell_type": "code",
   "execution_count": 8,
   "metadata": {},
   "outputs": [
    {
     "name": "stdout",
     "output_type": "stream",
     "text": [
      "True\n"
     ]
    }
   ],
   "source": [
    "def isPrime(n):\n",
    "    if n <= 1:\n",
    "        return False \n",
    "    for i in range(2, int(n**0.5) + 1):\n",
    "        if n%i == 0:\n",
    "            return False\n",
    "    return True\n",
    "\n",
    "print(isPrime(5))"
   ]
  },
  {
   "attachments": {},
   "cell_type": "markdown",
   "metadata": {},
   "source": [
    "9. Write a Python program to sort a list of integers in ascending order."
   ]
  },
  {
   "cell_type": "code",
   "execution_count": 9,
   "metadata": {},
   "outputs": [
    {
     "name": "stdout",
     "output_type": "stream",
     "text": [
      "[1, 2, 3, 5, 7, 9]\n"
     ]
    }
   ],
   "source": [
    "# Selection sort\n",
    "def sortAscending(lst):\n",
    "    for i in range(len(lst)):\n",
    "        minPos = i\n",
    "        for j in range(i+1, len(lst)):\n",
    "            if lst[minPos] > lst[j]:\n",
    "                minPos = j # calculate the minimum element position\n",
    "        # swap the elements of ith position with the element at minimum element position\n",
    "        lst[i], lst[minPos] = lst[minPos], lst[i]\n",
    "    return lst\n",
    "\n",
    "lst = [5, 3, 9, 1, 7, 2]\n",
    "print(sortAscending(lst))"
   ]
  },
  {
   "attachments": {},
   "cell_type": "markdown",
   "metadata": {},
   "source": [
    "10. Implement a function to find the sum of all numbers in a list."
   ]
  },
  {
   "cell_type": "code",
   "execution_count": 10,
   "metadata": {},
   "outputs": [
    {
     "name": "stdout",
     "output_type": "stream",
     "text": [
      "Sum of number in list:  27\n"
     ]
    }
   ],
   "source": [
    "def listSum(lst):\n",
    "    sum = 0\n",
    "    for element in lst:\n",
    "        sum += element\n",
    "    return sum\n",
    "\n",
    "lst = [5, 3, 9, 1, 7, 2]\n",
    "print(\"Sum of number in list: \", listSum(lst))"
   ]
  },
  {
   "attachments": {},
   "cell_type": "markdown",
   "metadata": {},
   "source": [
    "11. Write a program to find the common elements between two lists."
   ]
  },
  {
   "cell_type": "code",
   "execution_count": 11,
   "metadata": {},
   "outputs": [
    {
     "name": "stdout",
     "output_type": "stream",
     "text": [
      "Common Elements:  [8, 10]\n"
     ]
    }
   ],
   "source": [
    "def commonElements(l1, l2):\n",
    "    commonEle = []\n",
    "    for element in l1:\n",
    "        if element in l2:\n",
    "            commonEle.append(element)\n",
    "    return commonEle\n",
    "\n",
    "l1 = [2, 4, 6, 8, 10]\n",
    "l2 = [1, 3, 5, 7, 8, 10]\n",
    "print(\"Common Elements: \", commonElements(l1, l2))"
   ]
  },
  {
   "attachments": {},
   "cell_type": "markdown",
   "metadata": {},
   "source": [
    "12. Implement a function to check if a given string is an anagram of another string."
   ]
  },
  {
   "cell_type": "code",
   "execution_count": 12,
   "metadata": {},
   "outputs": [
    {
     "name": "stdout",
     "output_type": "stream",
     "text": [
      "True\n"
     ]
    }
   ],
   "source": [
    "def isAnagram(s1, s2):\n",
    "    # Convert both strings to lowercase\n",
    "    s1 = s1.lower()\n",
    "    s2 = s2.lower()\n",
    "    # Sort both strings and compare them\n",
    "    return sorted(s1) == sorted(s2)\n",
    "\n",
    "print(isAnagram(\"listen\", \"silent\")) "
   ]
  },
  {
   "attachments": {},
   "cell_type": "markdown",
   "metadata": {},
   "source": [
    "13. Write a Python program to generate all permutations of a given string."
   ]
  },
  {
   "cell_type": "code",
   "execution_count": 13,
   "metadata": {},
   "outputs": [
    {
     "name": "stdout",
     "output_type": "stream",
     "text": [
      "['abc', 'acb', 'bac', 'bca', 'cab', 'cba']\n"
     ]
    }
   ],
   "source": [
    "def permute(s):\n",
    "    # Base case: if the string is empty or has one character, return it as a list\n",
    "    if len(s) <= 1:\n",
    "        return [s]\n",
    "    # Recursive case: for each character in the string, remove it and permute the rest\n",
    "    result = []\n",
    "    for i in range(len(s)):\n",
    "        c = s[i]\n",
    "        # Remove the character from the string\n",
    "        rest = s[:i] + s[i+1:]\n",
    "        # Permute the rest of the string\n",
    "        rest_perms = permute(rest)\n",
    "        # Add the character to the front of each permutation\n",
    "        for perm in rest_perms:\n",
    "            result.append(c + perm)\n",
    "    return result\n",
    "\n",
    "# Test the function\n",
    "print(permute(\"abc\"))\n"
   ]
  },
  {
   "attachments": {},
   "cell_type": "markdown",
   "metadata": {},
   "source": [
    "14. Implement a function to calculate the Fibonacci sequence up to a given number of terms."
   ]
  },
  {
   "cell_type": "code",
   "execution_count": 14,
   "metadata": {},
   "outputs": [
    {
     "name": "stdout",
     "output_type": "stream",
     "text": [
      "[0, 1, 1, 2, 3]\n"
     ]
    }
   ],
   "source": [
    "def fibonacciSequence(n):\n",
    "    sequence = []\n",
    "    if n <= 0:\n",
    "        return sequence\n",
    "    elif n == 1:\n",
    "        return [0]\n",
    "    elif n == 2:\n",
    "        return [0,1]\n",
    "    else:\n",
    "        sequence = [0,1]\n",
    "        while len(sequence) < n:\n",
    "            next_num = sequence[-1] + sequence[-2]\n",
    "            sequence.append(next_num)\n",
    "        return sequence\n",
    "    \n",
    "print(fibonacciSequence(5))"
   ]
  },
  {
   "attachments": {},
   "cell_type": "markdown",
   "metadata": {},
   "source": [
    "15. Write a program to find the median of a list of numbers."
   ]
  },
  {
   "cell_type": "code",
   "execution_count": 15,
   "metadata": {},
   "outputs": [
    {
     "name": "stdout",
     "output_type": "stream",
     "text": [
      "4\n"
     ]
    }
   ],
   "source": [
    "def findMedian(lst):\n",
    "    # Sort the list in ascending order\n",
    "    sorted_lst = sorted(lst)\n",
    "    n = len(sorted_lst)\n",
    "    # If the length is even, the median is the average of the middle two elements\n",
    "    if n%2 == 0:\n",
    "        return (sorted_lst[n//2] + sorted_lst[n//2 - 1])/2\n",
    "    # If the length is odd, the median is the middle element\n",
    "    return sorted_lst[n//2]\n",
    "\n",
    "lst = [7, 3, 1, 4, 2, 9, 5]\n",
    "print(findMedian(lst))"
   ]
  },
  {
   "attachments": {},
   "cell_type": "markdown",
   "metadata": {},
   "source": [
    "16. Implement a function to check if a given list is sorted in non-decreasing order."
   ]
  },
  {
   "cell_type": "code",
   "execution_count": 16,
   "metadata": {},
   "outputs": [
    {
     "name": "stdout",
     "output_type": "stream",
     "text": [
      "The list is sorted in non-decreasing order.\n"
     ]
    }
   ],
   "source": [
    "def isNonDecreasing(lst):\n",
    "    for i in range(len(lst)-1):\n",
    "        # if where ever the previous element is greater return false\n",
    "        if lst[i] > lst[i+1]:\n",
    "            return False\n",
    "    return True\n",
    "\n",
    "lst = [1, 3, 5, 7, 9]\n",
    "if isNonDecreasing(lst):\n",
    "    print(\"The list is sorted in non-decreasing order.\")\n",
    "else:\n",
    "    print(\"The list is not sorted in non-decreasing order.\")"
   ]
  },
  {
   "attachments": {},
   "cell_type": "markdown",
   "metadata": {},
   "source": [
    "17. Write a Python program to find the intersection of two lists."
   ]
  },
  {
   "cell_type": "code",
   "execution_count": 17,
   "metadata": {},
   "outputs": [
    {
     "name": "stdout",
     "output_type": "stream",
     "text": [
      "[1, 2, 5]\n"
     ]
    }
   ],
   "source": [
    "def intersection(l1, l2):\n",
    "    # convert both list into set\n",
    "    set1 = set(l1)\n",
    "    set2 = set(l2)\n",
    "    # Calculate the intersection of both the set\n",
    "    intersectionEle = set1.intersection(set2)\n",
    "    return list(intersectionEle)\n",
    "\n",
    "l1 = [1,5,4,2,6]\n",
    "l2 = [5,1,0,3,2]\n",
    "print(intersection(l1, l2))"
   ]
  },
  {
   "attachments": {},
   "cell_type": "markdown",
   "metadata": {},
   "source": [
    "18. Implement a function to find the maximum subarray sum in a given list."
   ]
  },
  {
   "cell_type": "code",
   "execution_count": 18,
   "metadata": {},
   "outputs": [
    {
     "name": "stdout",
     "output_type": "stream",
     "text": [
      "6\n"
     ]
    }
   ],
   "source": [
    "def maxSubarraySum(lst):\n",
    "    if len(lst) == 0:\n",
    "        return 0\n",
    "    \n",
    "    current_sum = lst[0]\n",
    "    max_sum = lst[0]\n",
    "\n",
    "    for num in lst[1:]:\n",
    "        current_sum = max(num, current_sum + num)\n",
    "        max_sum = max(max_sum, current_sum)\n",
    "        \n",
    "    return max_sum\n",
    "\n",
    "lst = [-2, 1, -3, 4, -1, 2, 1, -5, 4]\n",
    "print(maxSubarraySum(lst))"
   ]
  },
  {
   "attachments": {},
   "cell_type": "markdown",
   "metadata": {},
   "source": [
    "19. Write a program to remove all vowels from a given string."
   ]
  },
  {
   "cell_type": "code",
   "execution_count": 19,
   "metadata": {},
   "outputs": [
    {
     "name": "stdout",
     "output_type": "stream",
     "text": [
      "Hll, Wrld!\n"
     ]
    }
   ],
   "source": [
    "def removeVowel(s):\n",
    "    str = \"\"\n",
    "    for i in range(len(s)):\n",
    "        c = s[i].lower()\n",
    "        if(c=='a' or c=='e' or c=='i' or c=='o' or c=='u'):\n",
    "            continue\n",
    "        else:\n",
    "            str += s[i]\n",
    "    return str\n",
    "\n",
    "print(removeVowel(\"Hello, World!\"))"
   ]
  },
  {
   "attachments": {},
   "cell_type": "markdown",
   "metadata": {},
   "source": [
    "20. Implement a function to reverse the order of words in a given sentence."
   ]
  },
  {
   "cell_type": "code",
   "execution_count": 20,
   "metadata": {},
   "outputs": [
    {
     "name": "stdout",
     "output_type": "stream",
     "text": [
      "World! Hello,\n"
     ]
    }
   ],
   "source": [
    "def reverseWord(str):\n",
    "    # split the string\n",
    "    words = str.split()\n",
    "    # reverse the words of string\n",
    "    reversed_words = words[::-1]\n",
    "    # join the words\n",
    "    reversed_sentence = ' '.join(reversed_words)\n",
    "    return reversed_sentence\n",
    "\n",
    "print(reverseWord(\"Hello, World!\"))"
   ]
  },
  {
   "attachments": {},
   "cell_type": "markdown",
   "metadata": {},
   "source": [
    "21. Write a Python program to check if two strings are anagrams of each other."
   ]
  },
  {
   "cell_type": "code",
   "execution_count": 21,
   "metadata": {},
   "outputs": [
    {
     "name": "stdout",
     "output_type": "stream",
     "text": [
      "True\n"
     ]
    }
   ],
   "source": [
    "def isAnagram(s1, s2):\n",
    "    # Convert both strings to lowercase\n",
    "    s1 = s1.lower()\n",
    "    s2 = s2.lower()\n",
    "    # Sort both strings and compare them\n",
    "    return sorted(s1) == sorted(s2)\n",
    "\n",
    "print(isAnagram(\"listen\", \"silent\")) "
   ]
  },
  {
   "attachments": {},
   "cell_type": "markdown",
   "metadata": {},
   "source": [
    "22. Implement a function to find the first non-repeating character in a string."
   ]
  },
  {
   "cell_type": "code",
   "execution_count": 22,
   "metadata": {},
   "outputs": [
    {
     "name": "stdout",
     "output_type": "stream",
     "text": [
      "First non repeating character: H\n"
     ]
    }
   ],
   "source": [
    "def firstNonRepeating(str):\n",
    "    char_count = {}\n",
    "    # count the occurance of each character\n",
    "    for char in str:\n",
    "        char_count[char] = char_count.get(char, 0) + 1\n",
    "    \n",
    "    # find the first non-repeating character \n",
    "    for char in str:\n",
    "        if char_count[char] == 1:\n",
    "            return char\n",
    "    # if non repeating character not found return none\n",
    "    return None\n",
    "\n",
    "print(\"First non repeating character:\", firstNonRepeating(\"Hello\"))"
   ]
  },
  {
   "attachments": {},
   "cell_type": "markdown",
   "metadata": {},
   "source": [
    "23. Write a program to find the prime factors of a given number."
   ]
  },
  {
   "cell_type": "code",
   "execution_count": 23,
   "metadata": {},
   "outputs": [
    {
     "name": "stdout",
     "output_type": "stream",
     "text": [
      "[5]\n"
     ]
    }
   ],
   "source": [
    "def isPrime(n):\n",
    "    if n <= 1:\n",
    "        return False \n",
    "    for i in range(2, int(n**0.5) + 1):\n",
    "        if n%i == 0:\n",
    "            return False\n",
    "    return True\n",
    "\n",
    "def primeFactors(n):\n",
    "    primefactor = []\n",
    "    for i in range(1, n+1):\n",
    "        if n%i == 0 and isPrime(i):\n",
    "            primefactor.append(i)\n",
    "    return primefactor\n",
    "\n",
    "print(primeFactors(5))"
   ]
  },
  {
   "attachments": {},
   "cell_type": "markdown",
   "metadata": {},
   "source": [
    "24. Implement a function to check if a given number is a power of two."
   ]
  },
  {
   "cell_type": "code",
   "execution_count": 24,
   "metadata": {},
   "outputs": [
    {
     "name": "stdout",
     "output_type": "stream",
     "text": [
      "True\n"
     ]
    }
   ],
   "source": [
    "def isPowerOfTwo(n):\n",
    "    if n <= 0:\n",
    "        return False\n",
    "    while n % 2 == 0:\n",
    "        n //= 2\n",
    "    return n == 1\n",
    "\n",
    "print(isPowerOfTwo(8))"
   ]
  },
  {
   "attachments": {},
   "cell_type": "markdown",
   "metadata": {},
   "source": [
    "25. Write a Python program to merge two sorted lists into a single sorted list."
   ]
  },
  {
   "cell_type": "code",
   "execution_count": 25,
   "metadata": {},
   "outputs": [
    {
     "name": "stdout",
     "output_type": "stream",
     "text": [
      "[1, 2, 3, 4, 5, 6, 7, 8, 9, 10]\n"
     ]
    }
   ],
   "source": [
    "def mergeSortedList(l1, l2):\n",
    "    l = []\n",
    "    j,k = 0,0\n",
    "    while j < len(l1) and k < len(l2):\n",
    "        if l1[j]<l2[k]:\n",
    "            l.append(l1[j])\n",
    "            j += 1\n",
    "        else:\n",
    "            l.append(l2[k])\n",
    "            k += 1\n",
    "\n",
    "    while j < len(l1):\n",
    "        l.append(l1[j])\n",
    "        j += 1\n",
    "    while k < len(l2):\n",
    "        l.append(l2[k])\n",
    "        k += 1\n",
    "    return l\n",
    "\n",
    "l1 = [1, 3, 5, 7]\n",
    "l2 = [2, 4, 6, 8, 9, 10]\n",
    "print(mergeSortedList(l1, l2))"
   ]
  },
  {
   "attachments": {},
   "cell_type": "markdown",
   "metadata": {},
   "source": [
    "26. Implement a function to find the mode of a list of numbers."
   ]
  },
  {
   "cell_type": "code",
   "execution_count": 26,
   "metadata": {},
   "outputs": [
    {
     "name": "stdout",
     "output_type": "stream",
     "text": [
      "Mode of list: [4]\n"
     ]
    }
   ],
   "source": [
    "def find_mode(lst):\n",
    "    frequency = {}\n",
    "    \n",
    "    # Count the frequency of each number\n",
    "    for num in lst:\n",
    "        frequency[num] = frequency.get(num, 0) + 1\n",
    "    \n",
    "    # find max frequency \n",
    "    max_frequency = max(frequency.values())\n",
    "    # find the mode\n",
    "    mode = [num for num, freq in frequency.items() if freq == max_frequency]\n",
    "    \n",
    "    return mode\n",
    "\n",
    "lst = [1, 2, 2, 3, 3, 3, 4, 4, 4, 4]\n",
    "print(\"Mode of list:\", find_mode(lst))"
   ]
  },
  {
   "attachments": {},
   "cell_type": "markdown",
   "metadata": {},
   "source": [
    "27. Write a program to find the greatest common divisor (GCD) of two numbers."
   ]
  },
  {
   "cell_type": "code",
   "execution_count": 27,
   "metadata": {},
   "outputs": [
    {
     "name": "stdout",
     "output_type": "stream",
     "text": [
      "4\n"
     ]
    }
   ],
   "source": [
    "def gcd(a, b):\n",
    "    if b == 0: # If b is 0, then the GCD is a\n",
    "        return a\n",
    "    # Otherwise, the GCD is the GCD of b and a%b (remainder of a divided by b)\n",
    "    return gcd(b, a % b) \n",
    "\n",
    "print(gcd(12, 16))"
   ]
  },
  {
   "attachments": {},
   "cell_type": "markdown",
   "metadata": {},
   "source": [
    "28. Implement a function to calculate the square root of a given number."
   ]
  },
  {
   "cell_type": "code",
   "execution_count": 28,
   "metadata": {},
   "outputs": [
    {
     "name": "stdout",
     "output_type": "stream",
     "text": [
      "5.0\n"
     ]
    }
   ],
   "source": [
    "def squareRoot(n):\n",
    "    if n < 0:\n",
    "        raise ValueError(\"Cannot calculate the square root of a negative number\")\n",
    "    # let the square root of n be x\n",
    "    x = n\n",
    "    y = 1\n",
    "    while x > y:\n",
    "        # Calculate the average of x and the original number divided by the x\n",
    "        x = (x+y)/2\n",
    "        y = n/x # Repeat until the x is close enough to the actual square root.\n",
    "    return x\n",
    "\n",
    "print(squareRoot(25))"
   ]
  },
  {
   "attachments": {},
   "cell_type": "markdown",
   "metadata": {},
   "source": [
    "29. Write a Python program to check if a given string is a valid palindrome ignoring non-alphanumeric characters."
   ]
  },
  {
   "cell_type": "code",
   "execution_count": 29,
   "metadata": {},
   "outputs": [
    {
     "name": "stdout",
     "output_type": "stream",
     "text": [
      "True\n"
     ]
    }
   ],
   "source": [
    "import re\n",
    "def is_palindrome(s):\n",
    "    # remove non-alphanumeric string\n",
    "    s = re.sub(r'[^a-zA-Z0-9]', '', s).lower()\n",
    "    return s == s[::-1]\n",
    "\n",
    "str = \"A man, a plan, a canal: Panama\"\n",
    "print(is_palindrome(str))"
   ]
  },
  {
   "attachments": {},
   "cell_type": "markdown",
   "metadata": {},
   "source": [
    "30. Implement a function to find the minimum element in a rotated sorted list."
   ]
  },
  {
   "cell_type": "code",
   "execution_count": 30,
   "metadata": {},
   "outputs": [
    {
     "name": "stdout",
     "output_type": "stream",
     "text": [
      "2\n"
     ]
    }
   ],
   "source": [
    "def minimum_in_rotated_sorted_list(lst):\n",
    "    left = 0\n",
    "    right = len(lst)-1\n",
    "    while left < right:\n",
    "        mid = left + (right - left)//2\n",
    "        if lst[mid] > lst[right]:\n",
    "            left = mid + 1\n",
    "        else:\n",
    "            right = mid\n",
    "    return lst[left]\n",
    "\n",
    "lst = [7, 9, 2, 4, 5, 6]\n",
    "print(minimum_in_rotated_sorted_list(lst))"
   ]
  },
  {
   "attachments": {},
   "cell_type": "markdown",
   "metadata": {},
   "source": [
    "31. Write a program to find the sum of all even numbers in a list."
   ]
  },
  {
   "cell_type": "code",
   "execution_count": 31,
   "metadata": {},
   "outputs": [
    {
     "name": "stdout",
     "output_type": "stream",
     "text": [
      "12\n"
     ]
    }
   ],
   "source": [
    "def evenSum(lst):\n",
    "    evenlst = [i for i in lst if i%2 == 0]\n",
    "    return sum(evenlst)\n",
    "\n",
    "lst = [1,2,3,4,5,6]\n",
    "print(evenSum(lst))"
   ]
  },
  {
   "attachments": {},
   "cell_type": "markdown",
   "metadata": {},
   "source": [
    "32. Implement a function to calculate the power of a number using recursion."
   ]
  },
  {
   "cell_type": "code",
   "execution_count": 32,
   "metadata": {},
   "outputs": [
    {
     "name": "stdout",
     "output_type": "stream",
     "text": [
      "16\n"
     ]
    }
   ],
   "source": [
    "def power(n, p):\n",
    "    if p == 0:\n",
    "        return 1\n",
    "    pow = power(n, p//2)\n",
    "    if p%2 == 0:\n",
    "        return pow*pow\n",
    "    return pow*pow*n\n",
    "\n",
    "print(power(2, 4))"
   ]
  },
  {
   "attachments": {},
   "cell_type": "markdown",
   "metadata": {},
   "source": [
    "33. Write a Python program to remove duplicates from a list while preserving the order."
   ]
  },
  {
   "cell_type": "code",
   "execution_count": 33,
   "metadata": {},
   "outputs": [
    {
     "name": "stdout",
     "output_type": "stream",
     "text": [
      "[1, 2, 4, 7]\n"
     ]
    }
   ],
   "source": [
    "def remove_duplicate(lst):\n",
    "    uniquelst = []\n",
    "    for element in lst:\n",
    "        if element in uniquelst:\n",
    "            continue\n",
    "        else:\n",
    "            uniquelst.append(element)\n",
    "    return uniquelst\n",
    "\n",
    "lst = [1, 2, 1, 2, 4, 7]\n",
    "print(remove_duplicate(lst))"
   ]
  },
  {
   "attachments": {},
   "cell_type": "markdown",
   "metadata": {},
   "source": [
    "34. Implement a function to find the longest common prefix among a list of strings."
   ]
  },
  {
   "cell_type": "code",
   "execution_count": 34,
   "metadata": {},
   "outputs": [
    {
     "name": "stdout",
     "output_type": "stream",
     "text": [
      "fl\n"
     ]
    }
   ],
   "source": [
    "def longest_common_prefix(strs):\n",
    "    if not strs:\n",
    "        return \"\"\n",
    "    \n",
    "    shortest_str = min(strs, key=len)\n",
    "    for i, char in enumerate(shortest_str):\n",
    "        for other in strs:\n",
    "            if other[i] != char:\n",
    "                return shortest_str[:i]\n",
    "    return shortest_str\n",
    "\n",
    "string_list = [\"flower\", \"flow\", \"flight\"]\n",
    "print(longest_common_prefix(string_list))"
   ]
  },
  {
   "attachments": {},
   "cell_type": "markdown",
   "metadata": {},
   "source": [
    "35. Write a program to check if a given number is a perfect square."
   ]
  },
  {
   "cell_type": "code",
   "execution_count": 35,
   "metadata": {},
   "outputs": [
    {
     "name": "stdout",
     "output_type": "stream",
     "text": [
      "False\n"
     ]
    }
   ],
   "source": [
    "def is_perfect_square(num):\n",
    "    if num < 0:\n",
    "        return False\n",
    "\n",
    "    if num == 0:\n",
    "        return True\n",
    "\n",
    "    # Use binary search to find the square root of num\n",
    "    left = 1\n",
    "    right = num\n",
    "\n",
    "    while left <= right:\n",
    "        mid = (left + right) // 2\n",
    "        square = mid * mid\n",
    "\n",
    "        if square == num:\n",
    "            return True\n",
    "        elif square < num:\n",
    "            left = mid + 1\n",
    "        else:\n",
    "            right = mid - 1\n",
    "\n",
    "    return False\n",
    "\n",
    "print(is_perfect_square(24))"
   ]
  },
  {
   "attachments": {},
   "cell_type": "markdown",
   "metadata": {},
   "source": [
    "36. Implement a function to calculate the product of all elements in a list."
   ]
  },
  {
   "cell_type": "code",
   "execution_count": 36,
   "metadata": {},
   "outputs": [
    {
     "name": "stdout",
     "output_type": "stream",
     "text": [
      "40\n"
     ]
    }
   ],
   "source": [
    "def product(lst):\n",
    "    if 0 in lst:\n",
    "        return 0\n",
    "    \n",
    "    mul = 1\n",
    "    for element in lst:\n",
    "        mul *= element\n",
    "    return mul\n",
    "\n",
    "lst = [1, 2, 4, 5]\n",
    "print(product(lst))"
   ]
  },
  {
   "attachments": {},
   "cell_type": "markdown",
   "metadata": {},
   "source": [
    "37. Write a Python program to reverse the order of words in a sentence while preserving the word order."
   ]
  },
  {
   "cell_type": "code",
   "execution_count": 37,
   "metadata": {},
   "outputs": [
    {
     "name": "stdout",
     "output_type": "stream",
     "text": [
      "olleH !dlrow \n"
     ]
    }
   ],
   "source": [
    "def reverseSentence(sentence):\n",
    "    # Split the sentence into words\n",
    "    words = sentence.split()\n",
    "    str = \"\"\n",
    "    \n",
    "    for word in words:\n",
    "        str += word[::-1]+\" \"\n",
    "    return str\n",
    "\n",
    "str = \"Hello world!\"\n",
    "print(reverseSentence(str))"
   ]
  },
  {
   "attachments": {},
   "cell_type": "markdown",
   "metadata": {},
   "source": [
    "38. Implement a function to find the missing number in a given list of consecutive numbers."
   ]
  },
  {
   "cell_type": "code",
   "execution_count": 38,
   "metadata": {},
   "outputs": [
    {
     "name": "stdout",
     "output_type": "stream",
     "text": [
      "4\n"
     ]
    }
   ],
   "source": [
    "def find_missing_number(lst):\n",
    "    n = len(lst) + 1\n",
    "    expected_sum = n * (n + 1) // 2\n",
    "    actual_sum = sum(lst)\n",
    "    return expected_sum - actual_sum\n",
    "\n",
    "lst = [1, 2, 3, 5, 6, 7]\n",
    "print(find_missing_number(lst))"
   ]
  },
  {
   "attachments": {},
   "cell_type": "markdown",
   "metadata": {},
   "source": [
    "39. Write a program to find the sum of digits of a given number."
   ]
  },
  {
   "cell_type": "code",
   "execution_count": 39,
   "metadata": {},
   "outputs": [
    {
     "name": "stdout",
     "output_type": "stream",
     "text": [
      "9\n"
     ]
    }
   ],
   "source": [
    "def sumOfDigits(n):\n",
    "    sum = 0\n",
    "    while n > 0:\n",
    "        lastDigit = n%10\n",
    "        sum += lastDigit\n",
    "        n //= 10\n",
    "    return sum\n",
    "\n",
    "n = 423\n",
    "print(sumOfDigits(n))"
   ]
  },
  {
   "attachments": {},
   "cell_type": "markdown",
   "metadata": {},
   "source": [
    "40. Implement a function to check if a given string is a valid palindrome considering case sensitivity."
   ]
  },
  {
   "cell_type": "code",
   "execution_count": 40,
   "metadata": {},
   "outputs": [
    {
     "name": "stdout",
     "output_type": "stream",
     "text": [
      "True\n"
     ]
    }
   ],
   "source": [
    "import re\n",
    "def is_valid_palindrome(s):\n",
    "    # Remove non-alphanumeric characters and convert to lowercase\n",
    "    s = re.sub(r'[^a-zA-Z0-9]', '', s).lower()\n",
    "    return s == s[::-1]\n",
    "\n",
    "s = \"A man, a plan, a canal: Panama\"\n",
    "print(is_valid_palindrome(s))"
   ]
  },
  {
   "attachments": {},
   "cell_type": "markdown",
   "metadata": {},
   "source": [
    "41. Write a Python program to find the smallest missing positive integer in a list."
   ]
  },
  {
   "cell_type": "code",
   "execution_count": 41,
   "metadata": {},
   "outputs": [
    {
     "name": "stdout",
     "output_type": "stream",
     "text": [
      "2\n"
     ]
    }
   ],
   "source": [
    "def smallest_missing_positive(lst):\n",
    "    n = len(lst)\n",
    "    for i in range(n):\n",
    "        # replace all negative numbers and greater than n with n+1\n",
    "        if lst[i] <= 0 or lst[i] > n: \n",
    "            lst[i] = n + 1\n",
    "    for i in range(n):\n",
    "        x = abs(lst[i])\n",
    "        if x > n:\n",
    "            continue\n",
    "        x -= 1\n",
    "        if lst[x] > 0:\n",
    "            lst[x] = -lst[x]\n",
    "    for i in range(n):\n",
    "        if lst[i] > 0:\n",
    "            return i + 1\n",
    "    return n + 1\n",
    "\n",
    "lst = [3, 4, -1, 1]\n",
    "print(smallest_missing_positive(lst))"
   ]
  },
  {
   "attachments": {},
   "cell_type": "markdown",
   "metadata": {},
   "source": [
    "42. Implement a function to find the longest palindrome substring in a given string."
   ]
  },
  {
   "cell_type": "code",
   "execution_count": 42,
   "metadata": {},
   "outputs": [
    {
     "name": "stdout",
     "output_type": "stream",
     "text": [
      "bab\n"
     ]
    }
   ],
   "source": [
    "def longest_palindrome_substring(s):\n",
    "    n = len(s)\n",
    "    start = 0\n",
    "    max_len = 1\n",
    "    for i in range(n):\n",
    "        # Check for odd length palindromes\n",
    "        l = r = i\n",
    "        while l >= 0 and r < n and s[l] == s[r]:\n",
    "            if r - l + 1 > max_len:\n",
    "                start = l\n",
    "                max_len = r - l + 1\n",
    "            l -= 1\n",
    "            r += 1\n",
    "\n",
    "        # Check for even length palindromes\n",
    "        l, r = i, i + 1\n",
    "        while l >= 0 and r < n and s[l] == s[r]:\n",
    "            if r - l + 1 > max_len:\n",
    "                start = l\n",
    "                max_len = r - l + 1\n",
    "            l -= 1\n",
    "            r += 1\n",
    "\n",
    "    return s[start:start + max_len]\n",
    "\n",
    "s = \"babad\"\n",
    "print(longest_palindrome_substring(s))"
   ]
  },
  {
   "attachments": {},
   "cell_type": "markdown",
   "metadata": {},
   "source": [
    "43. Write a program to find the number of occurrences of a given element in a list."
   ]
  },
  {
   "cell_type": "code",
   "execution_count": 43,
   "metadata": {},
   "outputs": [
    {
     "name": "stdout",
     "output_type": "stream",
     "text": [
      "2\n"
     ]
    }
   ],
   "source": [
    "def number_of_occurance(lst, x):\n",
    "    return lst.count(x)\n",
    "\n",
    "lst = [1, 2, 3, 4, 5, 1, 2, 3]\n",
    "x = 1\n",
    "print(number_of_occurance(lst, x))"
   ]
  },
  {
   "attachments": {},
   "cell_type": "markdown",
   "metadata": {},
   "source": [
    "44. Implement a function to check if a given number is a perfect number."
   ]
  },
  {
   "cell_type": "code",
   "execution_count": 44,
   "metadata": {},
   "outputs": [
    {
     "name": "stdout",
     "output_type": "stream",
     "text": [
      "True\n"
     ]
    }
   ],
   "source": [
    "def checkPerfectNumber(num):\n",
    "        if num == 1: \n",
    "            return False\n",
    "\n",
    "        sum = 1\n",
    "        for i in range(2, int(num**0.5+1)):\n",
    "            if num%i == 0:\n",
    "                sum += i + num//i\n",
    "        \n",
    "        return sum == num \n",
    "print(checkPerfectNumber(28))"
   ]
  },
  {
   "attachments": {},
   "cell_type": "markdown",
   "metadata": {},
   "source": [
    "45. Write a Python program to remove all duplicates from a string."
   ]
  },
  {
   "cell_type": "code",
   "execution_count": 45,
   "metadata": {},
   "outputs": [
    {
     "name": "stdout",
     "output_type": "stream",
     "text": [
      "Helo\n"
     ]
    }
   ],
   "source": [
    "def removeAllDuplicateStr(s):\n",
    "    newStr = ''   \n",
    "    for char in s:\n",
    "        if char in newStr:\n",
    "            continue\n",
    "        else:\n",
    "            newStr += char\n",
    "    return newStr\n",
    "\n",
    "print(removeAllDuplicateStr(\"Hello\"))"
   ]
  },
  {
   "attachments": {},
   "cell_type": "markdown",
   "metadata": {},
   "source": [
    "46. Implement a function to find the first missing positive."
   ]
  },
  {
   "cell_type": "code",
   "execution_count": 46,
   "metadata": {},
   "outputs": [
    {
     "name": "stdout",
     "output_type": "stream",
     "text": [
      "2\n"
     ]
    }
   ],
   "source": [
    "def first_missing_positive(nums):\n",
    "    nums = set(nums)\n",
    "    i = 1\n",
    "    while i in nums:\n",
    "        i += 1\n",
    "    return i\n",
    "\n",
    "print(first_missing_positive([3, 4, -1, 1]))"
   ]
  },
  {
   "cell_type": "code",
   "execution_count": null,
   "metadata": {},
   "outputs": [],
   "source": []
  }
 ],
 "metadata": {
  "kernelspec": {
   "display_name": "Python 3",
   "language": "python",
   "name": "python3"
  },
  "language_info": {
   "codemirror_mode": {
    "name": "ipython",
    "version": 3
   },
   "file_extension": ".py",
   "mimetype": "text/x-python",
   "name": "python",
   "nbconvert_exporter": "python",
   "pygments_lexer": "ipython3",
   "version": "3.11.2"
  },
  "orig_nbformat": 4
 },
 "nbformat": 4,
 "nbformat_minor": 2
}
