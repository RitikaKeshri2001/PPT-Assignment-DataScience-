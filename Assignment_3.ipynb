{
 "cells": [
  {
   "cell_type": "markdown",
   "metadata": {},
   "source": [
    "1. Scenario: A company wants to analyze the sales performance of its products in different regions. They have collected the following data:\n",
    "<br>Region A: [10, 15, 12, 8, 14]</br>\n",
    "Region B: [18, 20, 16, 22, 25]\n",
    "Calculate the mean sales for each region.\n",
    "\n",
    "\n",
    "- Mean of region A = (10+15+12+8+14) / 5\n",
    "                 = 11.8\n",
    "\n",
    "- Mean of region B = (18+20+16+22+25) / 5\n",
    "                 = 20.2"
   ]
  },
  {
   "cell_type": "markdown",
   "metadata": {},
   "source": [
    "2. Scenario: A survey is conducted to measure customer satisfaction on a scale of 1 to 5. The data collected is as follows: <br>[4, 5, 2, 3, 5, 4, 3, 2, 4, 5]</br>\n",
    "   Calculate the mode of the survey responses.\n",
    "\n",
    "\n",
    "- Mode of data is 4 and 5 because it appears three times."
   ]
  },
  {
   "cell_type": "markdown",
   "metadata": {},
   "source": [
    "##### 3. Scenario: A company wants to compare the salaries of two departments. The salary data for Department A and Department B are as follows:\n",
    "   <br>Department A: [5000, 6000, 5500, 7000]</br>\n",
    "   Department B: [4500, 5500, 5800, 6000, 5200]\n",
    "   Calculate the median salary for each department.\n",
    "\n",
    "The median of a set of data is the middle value when the data is arranged in order. If there are an even number of values, the median is the average of the two middle values. If there are an odd number of values, the median is the middle value.\n",
    "\n",
    "Median of department A :\n",
    "- Arrange the data in ascending order : [5000, 5500, 6000, 7000]\n",
    "- number of data = 4 , i.e even number \n",
    "- median of data = (5500 + 6000) / 2 = 11500 / 2 = 5750\n",
    "\n",
    "Median of department B:\n",
    "- Arrange the data in ascending order : [4500, 5200, 5500, 5800, 6000]\n",
    "- number of data = 5, i.e, odd number\n",
    "- median of data = 5500, i.e, the mid value"
   ]
  },
  {
   "cell_type": "markdown",
   "metadata": {},
   "source": [
    "##### 4. Scenario: A data analyst wants to determine the variability in the daily stock prices of a company. The data collected is as follows:\n",
    "[25.5, 24.8, 26.1, 25.3, 24.9]  \n",
    "Calculate the range of the stock prices.\n",
    "\n",
    "- The range of a set of data is the difference between the largest and smallest values in the set.\n",
    "- smallest value = 24.8\n",
    "- largest value = 26.1\n",
    "- Range = largest value - smallest value = 26.1 - 24.8 = 1.3"
   ]
  },
  {
   "cell_type": "markdown",
   "metadata": {},
   "source": [
    "##### 5. Scenario: A study is conducted to compare the performance of two different teaching methods. The test scores of the students in each group are as follows:\n",
    "   <br>Group A: [85, 90, 92, 88, 91]</br>\n",
    "   Group B: [82, 88, 90, 86, 87]\n",
    "   Perform a t-test to determine if there is a significant difference in the mean scores between the two groups.\n",
    "\n",
    "t-test:\n",
    "-  null hypothesis(H0) : there is no significant difference in the mean scores between the two groups.<br>alternative hypothesis(Ha):  there is a significant difference in the mean scores between the two groups.</br>\n",
    "\n",
    "- Significance value: 0.05\n",
    "\n",
    "- Mean of Group A = mean1 = (85+90+92+88+91) / 5 = 89.2\n",
    "- Mean of Group B = mean2 = (82+88+90+86+87) / 5 = 86.6\n",
    "- sample varaince of Group A: s1 = ((85 - 89.2)^2 + (90 - 89.2)^2 + (92 - 89.2)^2 + (88 - 89.2)^2 + (91 - 89.2)^2) / (5 - 1) = 7.7\n",
    "- sample variance of Group B: s2 = ((82 - 86.6)^2 + (88 - 86.6)^2 + (90 - 86.6)^2 + (86 - 86.6)^2 + (87 - 86.6)^2) / (5 - 1) = 8.8\n",
    "\n",
    "- Calculate the pooled standard deviation:\n",
    "<br>Pooled standard deviation = sqrt(((n1-1) * 7.7 + (n2-1) * 8.8) / (n1 + n2 - 2))</br>\n",
    "                          = sqrt(((5-1) * 7.7 + (5-1) * 8.8) / (5 + 5 - 2))  \n",
    "                          = sqrt((4 * 7.7 + 4 * 8.8) / 8)  \n",
    "                          = sqrt((30.8 + 35.2) / 8)  \n",
    "                          = sqrt(66 / 8)  \n",
    "                          = sqrt(8.25)  \n",
    "                          = 2.87 \n",
    "\n",
    "- The t-value can be calculated using the formula:\n",
    "<br>t-value = (mean1 - mean2) / (pooled standard deviation * sqrt(1/n1 + 1/n2))</br>\n",
    "= (89.2 - 86.6) / (2.87 * sqrt(1/5 + 1/5))  \n",
    "≈ 2.6 / (2.87 * sqrt(0.2 + 0.2))  \n",
    "= 2.6 / (2.87 * sqrt(0.4))  \n",
    "= 2.6 / (2.87 * 0.63)  \n",
    "= 2.6 / 1.8  \n",
    "= 1.44  \n",
    "\n",
    "- For a significance level of 0.05, the critical value (two-tailed test) with 8 degrees of freedom is approximately ±2.306.\n",
    "\n",
    "- Since our calculated t-value of 1.41 is less than the critical value of 2.306, we fail to reject the null hypothesis that there is no significant difference between the mean scores of Group A and Group B."
   ]
  },
  {
   "cell_type": "markdown",
   "metadata": {},
   "source": [
    "##### 6. Scenario: A company wants to analyze the relationship between advertising expenditure and sales. The data collected is as follows:  \n",
    "   Advertising Expenditure (in thousands): [10, 15, 12, 8, 14]  \n",
    "   Sales (in thousands): [25, 30, 28, 20, 26]  \n",
    "   Calculate the correlation coefficient between advertising expenditure and sales.  \n",
    "\n",
    "- Mean of Advertising Expenditure: (10 + 15 + 12 + 8 + 14) / 5 = 11.8\n",
    "- Mean of Sales: (25 + 30 + 28 + 20 + 26) / 5 = 25.8\n",
    "- Deviations from the mean of Advertising Expenditure: [10 - 11.8, 15 - 11.8, 12 - 11.8, 8 - 11.8, 14 - 11.8] = [-1.8, 3.2, 0.2, -3.8, 2.2]\n",
    "- Deviations from the mean of Sales: [25 - 25.8, 30 - 25.8, 28 - 25.8, 20 - 25.8, 26 - 25.8] = [-0.8, 4.2, 2.2, -5.8, 0.2]\n",
    "- covariance(Advertising Expenditure, sale) = (-1.8 * -0.8 + 3.2 * 4.2 + 0.2 * 2.2 + -3.8 * -5.8 + 2.2 * 0.2)/(5-1)  \n",
    "= (1.44 + 13.44 + 0.44 + 22.04 + 0.44) / 4  \n",
    "=  37.8 / 4 = 9.45\n",
    "\n",
    "- Standard deviation of Advertising Expenditure:   \n",
    "= sqrt(((-1.8)^2 + (3.2)^2 + (0.2)^2 + (-3.8)^2 + (2.2)^2) / (5-1))  \n",
    "= sqrt((3.24 + 10.24 + 0.04 + 14.44 + 4.84) / 4)  \n",
    "= sqrt(32.8 / 4 ) \n",
    "= sqrt(8.2) \n",
    "= 2.86\n",
    "\n",
    "- Standard deviation of Sales:\n",
    "= sqrt(((-0.8)^2 + (4.2)^2 + (2.2)^2 + (-5.8)^2 + (0.2)^2) / (5-1))  \n",
    "= sqrt((0.64 + 17.64 + 4.84 + 33.64 + 0.04)/4)   \n",
    "= sqrt(57.8 / 4)   \n",
    "= sqrt(14.45)  \n",
    "= 3.8\n",
    "\n",
    "- Correlation coefficient = covariance(Advertising Expenditure, sale) / (n * Standard deviation of Advertising Expenditure * Standard deviation of Sales)  \n",
    "= 37.8 / (5 * 2.86 * 3.8)  \n",
    "= 37.8 / (68.6)  \n",
    "= 0.551  "
   ]
  },
  {
   "cell_type": "markdown",
   "metadata": {},
   "source": [
    "##### 7. Scenario: A survey is conducted to measure the heights of a group of people. The data collected is as follows:\n",
    "   [160, 170, 165, 155, 175, 180, 170]  \n",
    "   Calculate the standard deviation of the heights.\n",
    "\n",
    "- Mean of heights: (160 + 170 + 165 + 155 + 175 + 180 + 170) / 7 = 167.85\n",
    "- Deviations from the mean: [160 -  167.85, 170 -  167.85, 165 -  167.85, 155 -  167.85, 175 -  167.85, 180 -  167.85, 170 -  167.85]  \n",
    "= [-7.85, 2.15, -2.85, -12.85, 7.15, 12.15, 2.15]\n",
    "- Squared deviations = [61.6225, 4.6225, 8.1225, 165.1225, 51.1225, 147.6225, 4.6225] \n",
    "- Sum of squared deviations: 61.6225 + 4.6225 + 8.1225 + 165.1225 + 51.1225 + 147.6225 + 4.6225 = 442.8575\n",
    "- Variance = (Sum of squared deviations) / (n - 1) = 442.8575 / 6 = 73.8\n",
    "- Standard deviation = sqrt(Variance) = sqrt(73.8) = 8.59"
   ]
  },
  {
   "cell_type": "markdown",
   "metadata": {},
   "source": [
    "##### 8. Scenario: A company wants to analyze the relationship between employee tenure and job satisfaction. The data collected is as follows:\n",
    "   Employee Tenure (in years): [2, 3, 5, 4, 6, 2, 4]  \n",
    "   Job Satisfaction (on a scale of 1 to 10): [7, 8, 6, 9, 5, 7, 6]  \n",
    "   Perform a linear regression analysis to predict job satisfaction based on employee tenure.  \n",
    "\n",
    "- Mean of Employee Tenure: (2 + 3 + 5 + 4 + 6 + 2 + 4) / 7 = 3.57\n",
    "- Mean of Job Satisfaction: (7 + 8 + 6 + 9 + 5 + 7 + 6) / 7 = 6.86 \n",
    "- Deviations from the mean of Employee Tenure: [2 - 3.57, 3 - 3.57, 5 - 3.57, 4 - 3.57, 6 - 3.57, 2 - 3.57, 4 - 3.57]\n",
    "= [-1.57, -0.57, 1.43, 0.43, 2.43, -1.57, 0.43]\n",
    "- Deviations from the mean of Job Satisfaction: [7 - 6.86, 8 - 6.86, 6 - 6.86, 9 - 6.86, 5 - 6.86, 7 - 6.86, 6 - 6.86]\n",
    "= [0.14, 1.14, -0.86, 2.14, -1.86, 0.14, -0.86]\n",
    "\n",
    "- Product of deviations: [-1.57 * 0.14, -0.57 * 1.14, 1.43 * -0.86, 0.43 * 2.14, 2.43 * -1.86, -1.57 * 0.14, 0.43 * -0.86]\n",
    "= [-0.2198, -0.6498, -1.2318, 0.9222, -4.5138, -0.2198, -0.3708]\n",
    "- Squared deviations: [(-1.57)^2, (-0.57)^2, (1.43)^2, (0.43)^2, (2.43)^2, (-1.57)^2, (0.43)^2]\n",
    "= [2.4649, 0.3249, 2.0449, 0.1849, 5.9049, 2.4649, 0.1849]\n",
    "- Sum of squared deviations: 2.4649 + 0.3249 + 2.0449 + 0.1849 + 5.9049 + 2.4649 + 0.1849 = 13.5733 \n",
    "- Sum of product of deviations: -0.2198 + -0.6498 + -1.2318 + 0.9222 + -4.5138 + -0.2198 + -0.3708 = -6.228\n",
    "- Slope (b) = (Sum of product of deviations) / (Sum of squared deviations of Employee Tenure)\n",
    "= -6.228 / 13.5733 = -0.459\n",
    "- Intercept (a) = (Mean of Job Satisfaction) - (Slope * Mean of Employee Tenure)\n",
    "= 6.86 - (-0.459 * 3.57) = 8.312\n",
    "- Therefore, the linear regression equation to predict job satisfaction based on employee tenure is:\n",
    "<br>Job Satisfaction = 8.312 - 0.459 * Employee Tenure </br>"
   ]
  },
  {
   "cell_type": "markdown",
   "metadata": {},
   "source": [
    "##### 9. Scenario: A study is conducted to compare the effectiveness of two different medications. The recovery times of the patients in each group are as follows:\n",
    "   Medication A: [10, 12, 14, 11, 13]  \n",
    "   Medication B: [15, 17, 16, 14, 18]   \n",
    "   Perform an analysis of variance (ANOVA) to determine if there is a significant difference in the mean recovery times between the two medications.\n",
    "\n",
    "ANNOVA\n",
    "\n",
    "- Null hypothesis (H0): There is no significant difference in the mean recovery times between Medication A and Medication B.\n",
    "<br>Alternative hypothesis (Ha): There is a significant difference in the mean recovery times between Medication A and Medication B.</br>\n",
    "\n",
    "- Mean of Medication A: (10 + 12 + 14 + 11 + 13) / 5 = 12<br>Mean of Medication B: (15 + 17 + 16 + 14 + 18) / 5 = 16</br>\n",
    "- Calculate the sum of squares between groups (SSB):\n",
    "<br>SSB = (nA * (meanA - overallMean)^2) + (nB * (meanB - overallMean)^2)</br>\n",
    "= (5 * (12 - ((10 + 12 + 14 + 11 + 13 + 15 + 17 + 16 + 14 + 18) / 10))^2) + (5 * (16 - ((10 + 12 + 14 + 11 + 13 + 15 + 17 + 16 + 14 + 18) / 10))^2)  \n",
    "= (5 * (12 - 14)^2) + (5 * (16 - 14)^2)  \n",
    "= 5 * (-2)^2 + 5 * 2^2  \n",
    "= 20 + 20  \n",
    "= 40\n",
    "\n",
    "- Calculate the sum of squares within groups (SSW):\n",
    "<br>SSW = (nA - 1) * varianceA + (nB - 1) * varianceB</br>\n",
    "= (4 * ((10 - 12)^2 + (12 - 12)^2 + (14 - 12)^2 + (11 - 12)^2 + (13 - 12)^2)) + (4 * ((15 - 16)^2 + (17 - 16)^2 + (16 - 16)^2 + (14 - 16)^2 + (18 - 16)^2))  \n",
    "= (4 * (4 + 0 + 4 + 1 + 1)) + (4 * (1 + 1 + 0 + 4 + 4))  \n",
    "= (4 * 10) + (4 * 10)  \n",
    "= 40 + 40  \n",
    "= 80  \n",
    "- Calculate the degrees of freedom between groups (dfB):\n",
    "<br>dfB = k - 1, where k is the number of groups (2 in this case) = 2 - 1 = 1</br>\n",
    "\n",
    "- Calculate the degrees of freedom within groups (dfW):\n",
    "<br>dfW = N - k, where N is the total number of observations and k is the number of groups = 10 - 2 = 8</br>\n",
    "\n",
    "- Calculate the mean squares between groups (MSB):\n",
    "<br>MSB = SSB / dfB = 40 / 1 = 40</br>\n",
    "\n",
    "- Calculate the mean squares within groups (MSW):\n",
    "<br>MSW = SSW / dfW = 80 / 8 = 10</br>\n",
    "\n",
    "- Calculate the F-value: <br>F-value = MSB / MSW = 40 / 10 = 4 </br>\n",
    "- For a significance level of 0.05, with dfB = 1 and dfW = 8, the critical F-value is approximately 5.32.\n",
    "- Since the calculated F-value (4) is less than the critical F-value (5.32), we fail to reject the null hypothesis. "
   ]
  },
  {
   "cell_type": "markdown",
   "metadata": {},
   "source": [
    "##### 10. Scenario: A company wants to analyze customer feedback ratings on a scale of 1 to 10. The data collected is\n",
    "\n",
    " as follows:\n",
    "    [8, 9, 7, 6, 8, 10, 9, 8, 7, 8]\n",
    "    Calculate the 75th percentile of the feedback ratings.\n",
    "\n",
    "- Arrange the data in ascending order: [6, 7, 7, 8, 8, 8, 8, 9, 9, 10]\n",
    "- The median of this sorted data set is (8+8)/2 = 8\n",
    "- The median of the upper half of this sorted data set is (9+9)/2 = 9\n",
    "- Therefore the 75th percentile is 9"
   ]
  },
  {
   "cell_type": "markdown",
   "metadata": {},
   "source": [
    "##### 11. Scenario: A quality control department wants to test the weight consistency of a product. The weights of a sample of products are as follows:\n",
    "    [10.2, 9.8, 10.0, 10.5, 10.3, 10.1]\n",
    "    Perform a hypothesis test to determine if the mean weight differs significantly from 10 grams.\n",
    "\n",
    "- Null Hypothesis (H0): The mean weight is equal to 10 grams.<br>Alternative Hypothesis (H1): The mean weight differs from 10 grams.</br>\n",
    "\n",
    "- Mean =  (10.2 + 9.8 + 10.0 + 10.5 + 10.3 + 10.1) / 6 = 10.15\n",
    "- Standard deviation: s = sqrt([(10.2 - 10.15)^2 + (9.8 - 10.15)^2 + (10.0 - 10.15)^2 + (10.5 - 10.15)^2 + (10.3 - 10.15)^2 + (10.1 - 10.15)^2] / (6 - 1))  \n",
    "= sqrt([0.0025 + 0.1225 + 0.0225 + 0.1225+ 0.0225 + 0.0025] / 5)  \n",
    "= sqrt(0.059) = 0.24\n",
    "- significance level = 0.05\n",
    "- t-test: t = (mean - μ) / (s / sqrt(n)) = (10.15 - 10) / (0.24 / sqrt(6)) = 0.15/(0.24/2.45) = 0.15/0.098 = 1.53  \n",
    "- Degrees of Freedom (df) = n - 1 = 6 - 1 = 5\n",
    "- With a significance level of 0.05 and df = 5, the critical t-value is approximately 2.571\n",
    "- t value < 2.571 <br>Therefore, we fails to reject the null hypothesis.</br>\n"
   ]
  },
  {
   "cell_type": "markdown",
   "metadata": {},
   "source": [
    "##### 12. Scenario: A company wants to analyze the click-through rates of two different website designs. The number of clicks for each design is as follows:\n",
    "    Design A: [100, 120, 110, 90, 95]\n",
    "    Design B: [80, 85, 90, 95, 100]\n",
    "    Perform a chi-square test to determine if there is a significant difference in the click-through rates between the two designs.\n",
    "\n",
    "- Null Hypothesis (H0): There is no significant difference in the click-through rates between Design A and Design B.<br>Alternative Hypothesis (Ha): There is a significant difference in the click-through rates between Design A and Design B.</br>\n",
    "\n",
    "- chi-square = Σ((O - E)^2 / E) <br>(where O is the observed frequency and E is the expected frequency)</br>\n"
   ]
  },
  {
   "cell_type": "code",
   "execution_count": 1,
   "metadata": {},
   "outputs": [
    {
     "name": "stdout",
     "output_type": "stream",
     "text": [
      "There is a significant difference between the click-through rates of Design A and Design B.\n",
      "Chi-square test statistic: 6.110658166925435\n"
     ]
    }
   ],
   "source": [
    "import numpy as np\n",
    "from scipy.stats import chi2_contingency\n",
    "\n",
    "# Click-through rates\n",
    "design_a = [100, 120, 110, 90, 95]\n",
    "design_b = [80, 85, 90, 95, 100]\n",
    "\n",
    "# Observed frequencies\n",
    "observed_freq = np.array([design_a, design_b])\n",
    "\n",
    "# chi-square test\n",
    "chi2, p_val, dof, expected = chi2_contingency(observed_freq)\n",
    "\n",
    "# Critical value\n",
    "alpha = 0.05\n",
    "critical_value = chi2_contingency(np.ones((2, 5)))[0]\n",
    "\n",
    "# Decision\n",
    "if chi2 > critical_value:\n",
    "    print(\"There is a significant difference between the click-through rates of Design A and Design B.\")\n",
    "else:\n",
    "    print(\"There is no significant difference between the click-through rates of Design A and Design B.\")\n",
    "\n",
    "print(\"Chi-square test statistic:\", chi2)"
   ]
  },
  {
   "cell_type": "markdown",
   "metadata": {},
   "source": [
    "##### 13. Scenario: A survey is conducted to measure customer satisfaction with a product on a scale of 1 to 10. The data collected is as follows:\n",
    "    [7, 9, 6, 8, 10, 7, 8, 9, 7, 8]\n",
    "    Calculate the 95% confidence interval for the population mean satisfaction score.\n",
    "\n",
    "- Mean =  (7 + 9 + 6 + 8 + 10 + 7 + 8 + 9 + 7 + 8) / 10 = 7.9\n",
    "- Standard Deviation: s = sqrt(((7-7.9)^2 + (9-7.9)^2 + (6-7.9)^2 + (8-7.9)^2 + (10-7.9)^2 + (7-7.9)^2 + (8-7.9)^2 + (9-7.9)^2 + (7-7.9)^2 + (8-7.9)^2) / (10-1))  \n",
    "= sqrt((0.81 + 1.21 + 2.89 + 0.01 + 4.41 + 0.81 + 0.01 + 1.21 + 0.81 + 0.01) / 9)  \n",
    "= sqrt(12.37 / 9)  \n",
    "= sqrt(1.374)  \n",
    "= 1.17  \n",
    "-  The critical value for a 95% confidence interval with (10-1)9 degrees of freedom is approximately 2.262\n",
    "- Confidence Interval = 7.9 ± (2.262) * (1.17 / sqrt(10))  \n",
    "= 7.9 ± (2.262) * (1.17 / 3.162)  \n",
    "= [7.065, 8.735]\n",
    "\n",
    "- The 95% confidence interval is approximately [7.065, 8.735]. This means that we are 95% confident that the true population mean falls within this interval based on the given sample data."
   ]
  },
  {
   "cell_type": "markdown",
   "metadata": {},
   "source": [
    "##### 14. Scenario: A company wants to analyze the effect of temperature on product performance. The data collected is as follows:\n",
    "    Temperature (in degrees Celsius): [20, 22, 23, 19, 21]\n",
    "    Performance (on a scale of 1 to 10): [8, 7, 9, 6, 8]\n",
    "    Perform a simple linear regression to predict performance based on temperature.\n"
   ]
  },
  {
   "cell_type": "code",
   "execution_count": 2,
   "metadata": {},
   "outputs": [
    {
     "name": "stdout",
     "output_type": "stream",
     "text": [
      "Regression equation: Performance = -2.90 + 0.50 * Temperature\n",
      "Predicted performance: [ 9.1  9.6 10.1]\n"
     ]
    }
   ],
   "source": [
    "import pandas as pd\n",
    "import numpy as np\n",
    "from sklearn.linear_model import LinearRegression\n",
    "from sklearn.model_selection import train_test_split\n",
    "\n",
    "import numpy as np\n",
    "from scipy import stats\n",
    "\n",
    "temperature = np.array([20, 22, 23, 19, 21])\n",
    "performance = np.array([8, 7, 9, 6, 8])\n",
    "\n",
    "# Perform simple linear regression\n",
    "slope, intercept, r_value, p_value, std_err = stats.linregress(temperature, performance)\n",
    "\n",
    "# Create regression equation\n",
    "regression_equation = f\"Performance = {intercept:.2f} + {slope:.2f} * Temperature\"\n",
    "\n",
    "# Make predictions\n",
    "new_temperature = np.array([24, 25, 26])\n",
    "predicted_performance = intercept + slope * new_temperature\n",
    "\n",
    "print(\"Regression equation:\", regression_equation)\n",
    "print(\"Predicted performance:\", predicted_performance)\n"
   ]
  },
  {
   "cell_type": "markdown",
   "metadata": {},
   "source": [
    "##### 15. Scenario: A study is conducted to compare the preferences of two groups of participants. The preferences are measured on a Likert scale from 1 to 5. The data collected is as follows:\n",
    "    Group A: [4, 3, 5, 2, 4]\n",
    "    Group B: [3, 2, 4, 3, 3]\n",
    "    Perform a Mann-Whitney U test to determine if there is a significant difference in the median preferences between the two groups\n",
    "\n",
    "- Null Hypothesis(H0): There is no significant difference in the median preferences between Group A and Group B. <br>Alternate hypothesis(Ha): There is a significant difference in the median preferences between Group A and Group B.</br>\n",
    "- Combine the data from both groups and rank them from smallest to largest, disregarding group membership.\n",
    "- Calculate the sum of the ranks for each group (Ua for Group A and Ub for Group B).\n",
    "- Group A: [4, 3, 5, 2, 4] <br>Ranking: [4, 3, 5, 2, 4] -> [3, 2, 5, 1, 3] </br> Sum of ranks for Group A (Ua) = 3 + 2 + 5 + 1 + 3 = 14\n",
    "- Group B: [3, 2, 4, 3, 3] <br>Ranking: [3, 2, 4, 3, 3]</br> Sum of ranks for Group B (Ub) = 3 + 2 + 4 + 3 + 3 = 15\n",
    "- U statistic = min(Ua, Ub) = min(14, 15) = 14\n",
    "- significance level = 0.05 \n",
    "- For significance value 0.05 and n = 5 the critical value is 4\n",
    "- Since the U statistic (14) is greater than the critical value (4), we fail to reject the null hypothesis (H0) "
   ]
  },
  {
   "cell_type": "markdown",
   "metadata": {},
   "source": [
    "##### 16. Scenario: A company wants to analyze the distribution of customer ages. The data collected is as follows:\n",
    "    [25, 30, 35, 40, 45, 50, 55, 60, 65, 70]\n",
    "    Calculate the interquartile range (IQR) of the ages.\n",
    "\n",
    "- Sort the data in ascending order = [25, 30, 35, 40, 45, 50, 55, 60, 65, 70]\n",
    "- The median (Q2) of the data set: Q2 = (45 + 50) / 2 = 47.5\n",
    "- Divide the data set into two halves: [25, 30, 35, 40, 45] and [50, 55, 60, 65, 70]\n",
    "- Median (Q1) of the lower half of the data set: Q1 = 35\n",
    "- Median (Q3) of the upper half of the data set: Q3 = 60\n",
    "- IQR = Q3 - Q1 = 60 - 35 = 25\n"
   ]
  },
  {
   "cell_type": "markdown",
   "metadata": {},
   "source": [
    "##### 17. Scenario: A study is conducted to compare the performance of three different machine learning algorithms. The accuracy scores for each algorithm are as follows:\n",
    "    Algorithm A: [0.85, 0.80, 0.82, 0.87, 0.83]\n",
    "    Algorithm B: [0.78, 0.82, 0.84, 0.80, 0.79]\n",
    "    Algorithm C: [0.90, 0.88, 0.89, 0.86, 0.87]\n",
    "    Perform a Kruskal-Wallis test to determine if there is a significant difference in the median accuracy scores between the algorithms.\n"
   ]
  },
  {
   "cell_type": "code",
   "execution_count": 3,
   "metadata": {},
   "outputs": [
    {
     "name": "stdout",
     "output_type": "stream",
     "text": [
      "Statistics=9.697, p=0.008\n",
      "There is a significant difference between the median accuracy scores.\n"
     ]
    }
   ],
   "source": [
    "from scipy.stats import kruskal\n",
    "\n",
    "# Create arrays for accuracy scores for each algorithm\n",
    "algorithm_a = [0.85, 0.80, 0.82, 0.87, 0.83]\n",
    "algorithm_b = [0.78, 0.82, 0.84, 0.80, 0.79]\n",
    "algorithm_c = [0.90, 0.88, 0.89, 0.86, 0.87]\n",
    "\n",
    "# Perform Kruskal-Wallis test\n",
    "stat, p = kruskal(algorithm_a, algorithm_b, algorithm_c)\n",
    "\n",
    "# Print results\n",
    "print('Statistics=%.3f, p=%.3f' % (stat, p))\n",
    "if p > 0.05:\n",
    "    print('There is no significant difference between the median accuracy scores.')\n",
    "else:\n",
    "    print('There is a significant difference between the median accuracy scores.')\n"
   ]
  },
  {
   "cell_type": "markdown",
   "metadata": {},
   "source": [
    "##### 18. Scenario: A company wants to analyze the effect of price on sales. The data collected is as follows:\n",
    "    Price (in dollars): [10, 15, 12, 8, 14]\n",
    "    Sales: [100, 80, 90, 110, 95]\n",
    "    Perform a simple linear regression to predict"
   ]
  },
  {
   "cell_type": "code",
   "execution_count": 4,
   "metadata": {},
   "outputs": [
    {
     "name": "stdout",
     "output_type": "stream",
     "text": [
      "Intercept: 129.0\n",
      "Coefficient: [-2.75]\n"
     ]
    }
   ],
   "source": [
    "import pandas as pd\n",
    "import numpy as np\n",
    "from sklearn.linear_model import LinearRegression\n",
    "from sklearn.model_selection import train_test_split\n",
    "\n",
    "# Load data into pandas dataframe\n",
    "df = pd.DataFrame({'price': [10, 15, 12, 8, 14], 'sales': [100, 80, 90, 110, 95]})\n",
    "\n",
    "X = df[['price']]\n",
    "y = df['sales']\n",
    "\n",
    "# Split data into training and testing sets\n",
    "X_train, X_test, y_train, y_test = train_test_split(X, y, test_size=0.2, random_state=42)\n",
    "\n",
    "# Instance of LinearRegression\n",
    "model = LinearRegression()\n",
    "\n",
    "# Train model \n",
    "model.fit(X_train, y_train)\n",
    "\n",
    "# Predict sales \n",
    "y_pred = model.predict(X_test)\n",
    "\n",
    "# Print coefficients\n",
    "print('Intercept:', model.intercept_)\n",
    "print('Coefficient:', model.coef_)"
   ]
  },
  {
   "cell_type": "markdown",
   "metadata": {},
   "source": [
    "##### 19. Scenario: A survey is conducted to measure the satisfaction levels of customers with a new product. The data collected is as follows:\n",
    "    [7, 8, 9, 6, 8, 7, 9, 7, 8, 7]\n",
    "    Calculate the standard error of the mean satisfaction score.\n",
    "\n",
    "- Mean of the data = (7+8+9+6+8+7+9+7+8+7)/10 = 7.6\n",
    "- standard deviation:<br>sqrt(((7 - 7.6)^2 + (8 - 7.6)^2 + (9 - 7.6)^2 + (6 - 7.6)^2 + (8 - 7.6)^2 + (7 - 7.6)^2 + (9 - 7.6)^2 + (7 - 7.6)^2 + (8 - 7.6)^2 + (7 - 7.6)^2) / 10-1) </br>\n",
    "=  sqrt((0.36 + 0.16 + 1.96 + 2.56 + 0.16 + 0.36 + 1.96 + 0.36 + 0.16 + 0.36) / 9) = sqrt(8.32/9) = 0.961\n",
    "\n",
    "- Standard error (SE) = sample standard deviation / √(sample size) = 0.961 / √(10) ≈ 0.304"
   ]
  },
  {
   "cell_type": "markdown",
   "metadata": {},
   "source": [
    "##### 20. Scenario: A company wants to analyze the relationship between advertising expenditure and sales. The data collected is as follows:\n",
    "    Advertising Expenditure (in thousands): [10, 15, 12, 8, 14]\n",
    "    Sales (in thousands): [25, 30, 28, 20, 26]\n",
    "    Perform a multiple regression analysis to predict sales based on advertising expenditure."
   ]
  },
  {
   "cell_type": "code",
   "execution_count": 5,
   "metadata": {},
   "outputs": [
    {
     "name": "stdout",
     "output_type": "stream",
     "text": [
      "Mean Squared Error: 1.1025000000000016\n",
      "Mean Absolute Error: 1.0500000000000007\n",
      "Predicted sales for advertising expenditure 13 : 26.85\n"
     ]
    },
    {
     "name": "stderr",
     "output_type": "stream",
     "text": [
      "c:\\Users\\ASUS\\AppData\\Local\\Programs\\Python\\Python311\\Lib\\site-packages\\sklearn\\metrics\\_regression.py:918: UndefinedMetricWarning: R^2 score is not well-defined with less than two samples.\n",
      "  warnings.warn(msg, UndefinedMetricWarning)\n",
      "c:\\Users\\ASUS\\AppData\\Local\\Programs\\Python\\Python311\\Lib\\site-packages\\sklearn\\base.py:439: UserWarning: X does not have valid feature names, but LinearRegression was fitted with feature names\n",
      "  warnings.warn(\n"
     ]
    }
   ],
   "source": [
    "import pandas as pd\n",
    "from sklearn.model_selection import train_test_split\n",
    "from sklearn.linear_model import LinearRegression\n",
    "from sklearn.metrics import mean_squared_error, mean_absolute_error, r2_score\n",
    "\n",
    "# Load data into pandas dataframe\n",
    "df = pd.DataFrame({'Advertising Expenditure': [10, 15, 12, 8, 14], 'Sales': [25, 30, 28, 20, 26]})\n",
    "\n",
    "X = df[['Advertising Expenditure']]\n",
    "y = df['Sales']\n",
    "\n",
    "# Split data into training and testing sets\n",
    "X_train, X_test, y_train, y_test = train_test_split(X, y, test_size=0.2, random_state=42)\n",
    "\n",
    "# Instance of LinearRegression\n",
    "model = LinearRegression()\n",
    "\n",
    "# Train model \n",
    "model.fit(X_train, y_train)\n",
    "\n",
    "# Predict sales \n",
    "y_pred = model.predict(X_test)\n",
    "\n",
    "# Evaluate model using metrics such as MSE, MAE, and R-squared\n",
    "mse = mean_squared_error(y_test, y_pred)\n",
    "mae = mean_absolute_error(y_test, y_pred)\n",
    "r2 = r2_score(y_test, y_pred)\n",
    "\n",
    "print('Mean Squared Error:', mse)\n",
    "print('Mean Absolute Error:', mae)\n",
    "\n",
    "# Predict sales for a new advertising expenditure\n",
    "new_expenditure = 13\n",
    "predicted_sales = model.predict([[new_expenditure]])\n",
    "\n",
    "print(\"Predicted sales for advertising expenditure\", new_expenditure, \":\", predicted_sales[0])"
   ]
  },
  {
   "cell_type": "code",
   "execution_count": null,
   "metadata": {},
   "outputs": [],
   "source": []
  }
 ],
 "metadata": {
  "kernelspec": {
   "display_name": "Python 3",
   "language": "python",
   "name": "python3"
  },
  "language_info": {
   "codemirror_mode": {
    "name": "ipython",
    "version": 3
   },
   "file_extension": ".py",
   "mimetype": "text/x-python",
   "name": "python",
   "nbconvert_exporter": "python",
   "pygments_lexer": "ipython3",
   "version": "3.11.2"
  },
  "orig_nbformat": 4
 },
 "nbformat": 4,
 "nbformat_minor": 2
}
